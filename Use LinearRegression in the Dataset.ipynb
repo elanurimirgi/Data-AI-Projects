{
 "cells": [
  {
   "cell_type": "code",
   "execution_count": 64,
   "id": "2cb1d26c",
   "metadata": {},
   "outputs": [
    {
     "name": "stdout",
     "output_type": "stream",
     "text": [
      "[[81.86890756]\n",
      " [69.08571429]\n",
      " [83.46722689]\n",
      " [71.86890756]\n",
      " [75.69579832]]\n"
     ]
    },
    {
     "data": {
      "image/png": "[encoded data removed]",
      "text/plain": [
       "<Figure size 640x480 with 1 Axes>"
      ]
     },
     "metadata": {},
     "output_type": "display_data"
    }
   ],
   "source": [
    "import numpy as np\n",
    "import matplotlib.pyplot as plt\n",
    "import pandas as pd\n",
    "import seaborn as sns\n",
    "\n",
    "\n",
    "# Data Upload\n",
    "datas = pd.read_csv(r\"C:\\Users\\Elanu\\Desktop\\bilkav.com_odev_tenis.csv\")\n",
    "\n",
    "# Converting categorical data with One-Hot Encoding\n",
    "from sklearn.preprocessing import OneHotEncoder\n",
    "\n",
    "# how to convert 'outlook' column with One-Hot Encoding\n",
    "outlook_onehot_encoder = OneHotEncoder()\n",
    "outlook_onehot_encoded = outlook_onehot_encoder.fit_transform(datas[['outlook']]).toarray()\n",
    "\n",
    "# How to convert One-Hot Encoded data to pandas DATAFRAME\n",
    "outlook_onehot_encoded_df = pd.DataFrame(outlook_onehot_encoded, columns=outlook_onehot_encoder.categories_[0].tolist())\n",
    "\n",
    "# Deleting the 'outlook' column in the dataset\n",
    "datas.drop(['outlook'], axis=1, inplace=True)\n",
    "\n",
    "# Adding One-Hot Encoded data to a dataset\n",
    "datas = pd.concat([datas, outlook_onehot_encoded_df], axis=1)\n",
    "\n",
    "# Converting categorical data with One-Hot Encoding\n",
    "combined_columns = pd.concat([datas['windy'], datas['play']], axis=1)\n",
    "\n",
    "onehot_encoder = OneHotEncoder()\n",
    "onehot_encoded = onehot_encoder.fit_transform(combined_columns).toarray()\n",
    "\n",
    "# How to convert One-Hot Encoded data to pandas DATAFRAME\n",
    "onehot_encoded_df = pd.DataFrame(onehot_encoded, columns=['windy_False', 'windy_True', 'play_no', 'play_yes'])\n",
    "\n",
    "# Deleting the 'windy' and 'play' columns in the dataset\n",
    "datas.drop(['windy', 'play'], axis=1, inplace=True)\n",
    "\n",
    "# Adding One-Hot Encoded data to a dataset\n",
    "datas = pd.concat([veriler, onehot_encoded_df], axis=1)\n",
    "\n",
    "# Division of data for training and testing\n",
    "from sklearn.model_selection import train_test_split\n",
    "\n",
    "outlook = datas[outlook_onehot_encoder.categories_[0].tolist()]  # We select the outlook column using the column names\n",
    "temperature = datas[['temperature']]\n",
    "humidity = datas[['humidity']]\n",
    "\n",
    "x_train, x_test, y_train, y_test = train_test_split(pd.concat([outlook, temperature], axis=1), humidity, test_size=0.33, random_state=0)\n",
    "\n",
    "from sklearn.linear_model import LinearRegression\n",
    "\n",
    "regressor = LinearRegression()\n",
    "regressor.fit(x_train, y_train)\n",
    "\n",
    "y_pred = regressor.predict(x_test)\n",
    "\n",
    "print(y_pred)\n",
    "\n",
    "# Concating the Datas\n",
    "df = pd.DataFrame({'Real Values': y_test['humidity'].values.flatten(), 'Predict Values': y_pred.flatten()})\n",
    "\n",
    "# Drawing a scatter graphic\n",
    "sns.scatterplot(data=df, x='Real Values', y='Predict Values')\n",
    "\n",
    "# Show the graphic\n",
    "plt.show()"
   ]
  },
  {
   "cell_type": "code",
   "execution_count": null,
   "id": "db5b48d3",
   "metadata": {},
   "outputs": [],
   "source": [
    "\n"
   ]
  },
  {
   "cell_type": "code",
   "execution_count": null,
   "id": "5ae79f85",
   "metadata": {},
   "outputs": [],
   "source": []
  }
 ],
 "metadata": {
  "kernelspec": {
   "display_name": "Python 3 (ipykernel)",
   "language": "python",
   "name": "python3"
  },
  "language_info": {
   "codemirror_mode": {
    "name": "ipython",
    "version": 3
   },
   "file_extension": ".py",
   "mimetype": "text/x-python",
   "name": "python",
   "nbconvert_exporter": "python",
   "pygments_lexer": "ipython3",
   "version": "3.10.6"
  }
 },
 "nbformat": 4,
 "nbformat_minor": 5
}
