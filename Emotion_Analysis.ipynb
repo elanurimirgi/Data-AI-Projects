{
  "nbformat": 4,
  "nbformat_minor": 0,
  "metadata": {
    "colab": {
      "provenance": [],
      "gpuType": "T4"
    },
    "kernelspec": {
      "name": "python3",
      "display_name": "Python 3"
    },
    "language_info": {
      "name": "python"
    },
    "accelerator": "GPU"
  },
  "cells": [
    {
      "cell_type": "markdown",
      "source": [
        "Bu projede amaç yapılan yorumlardan yola çıkarak bir film sitesindeki filmlere yapılan yorumları pozitif, negatif, nötr olarak puanlarına göre sınıflandıran bir yapay zeka algoritması geliştirmektir. Bunu yaparken literatürde çok sık kullanılan makine öğrenimi ve derin öğrenme algoritmaları araştırılarak denenmiş ve sonuçlar sütun grafiğinde gösterilmiştir."
      ],
      "metadata": {
        "id": "Idum6qOpWDLW"
      }
    },
    {
      "cell_type": "code",
      "source": [
        "from google.colab import drive\n",
        "drive.mount('/content/drive')"
      ],
      "metadata": {
        "colab": {
          "base_uri": "https://localhost:8080/"
        },
        "id": "pPa2zRaRu8cD",
        "outputId": "c5632c80-d681-4fed-89e7-c812da53e38e"
      },
      "execution_count": 1,
      "outputs": [
        {
          "output_type": "stream",
          "name": "stdout",
          "text": [
            "Mounted at /content/drive\n"
          ]
        }
      ]
    },
    {
      "cell_type": "code",
      "execution_count": 2,
      "metadata": {
        "colab": {
          "base_uri": "https://localhost:8080/"
        },
        "id": "LUBjAFMr-9wO",
        "outputId": "13abd18c-69c2-45d1-a875-4600ba73ccbe"
      },
      "outputs": [
        {
          "output_type": "stream",
          "name": "stderr",
          "text": [
            "[nltk_data] Downloading package stopwords to /root/nltk_data...\n",
            "[nltk_data]   Unzipping corpora/stopwords.zip.\n",
            "[nltk_data] Downloading package wordnet to /root/nltk_data...\n"
          ]
        }
      ],
      "source": [
        "from sklearn.svm import SVC\n",
        "from sklearn.neural_network import MLPClassifier\n",
        "from keras.preprocessing.text import Tokenizer\n",
        "from keras.preprocessing.sequence import pad_sequences\n",
        "from keras.models import Sequential\n",
        "from keras.layers import Embedding, LSTM, Conv1D, MaxPooling1D, Dense, Dropout\n",
        "from gensim.models import Word2Vec\n",
        "from sklearn.metrics import classification_report\n",
        "\n",
        "from sklearn.model_selection import train_test_split\n",
        "from sklearn.naive_bayes import MultinomialNB\n",
        "from sklearn.ensemble import RandomForestClassifier\n",
        "from sklearn.metrics import classification_report\n",
        "from sklearn.tree import DecisionTreeClassifier\n",
        "import pandas as pd\n",
        "import numpy as np\n",
        "from textblob import TextBlob\n",
        "import nltk\n",
        "from nltk.corpus import stopwords\n",
        "from nltk.stem import WordNetLemmatizer\n",
        "nltk.download('stopwords')\n",
        "nltk.download('wordnet')\n",
        "\n",
        "lemma = WordNetLemmatizer()\n",
        "import json\n",
        "import re\n",
        "from sklearn.feature_extraction.text import TfidfVectorizer\n",
        "from sklearn.preprocessing import LabelEncoder\n",
        "import matplotlib.pyplot as plt\n",
        "from sklearn.metrics import accuracy_score, precision_score, recall_score, f1_score"
      ]
    },
    {
      "cell_type": "code",
      "source": [
        "data_movies = pd.read_csv('/content/drive/MyDrive/archive/movies_metadata.csv')\n",
        "print(data_movies.head())"
      ],
      "metadata": {
        "id": "dtPcHzpoiukd",
        "colab": {
          "base_uri": "https://localhost:8080/"
        },
        "outputId": "dc67df8e-eb08-43ec-bc4f-632dc2852304"
      },
      "execution_count": 3,
      "outputs": [
        {
          "output_type": "stream",
          "name": "stdout",
          "text": [
            "   adult                              belongs_to_collection    budget  \\\n",
            "0  False  {'id': 10194, 'name': 'Toy Story Collection', ...  30000000   \n",
            "1  False                                                NaN  65000000   \n",
            "2  False  {'id': 119050, 'name': 'Grumpy Old Men Collect...         0   \n",
            "3  False                                                NaN  16000000   \n",
            "4  False  {'id': 96871, 'name': 'Father of the Bride Col...         0   \n",
            "\n",
            "                                              genres  \\\n",
            "0  [{'id': 16, 'name': 'Animation'}, {'id': 35, '...   \n",
            "1  [{'id': 12, 'name': 'Adventure'}, {'id': 14, '...   \n",
            "2  [{'id': 10749, 'name': 'Romance'}, {'id': 35, ...   \n",
            "3  [{'id': 35, 'name': 'Comedy'}, {'id': 18, 'nam...   \n",
            "4                     [{'id': 35, 'name': 'Comedy'}]   \n",
            "\n",
            "                               homepage     id    imdb_id original_language  \\\n",
            "0  http://toystory.disney.com/toy-story    862  tt0114709                en   \n",
            "1                                   NaN   8844  tt0113497                en   \n",
            "2                                   NaN  15602  tt0113228                en   \n",
            "3                                   NaN  31357  tt0114885                en   \n",
            "4                                   NaN  11862  tt0113041                en   \n",
            "\n",
            "                original_title  \\\n",
            "0                    Toy Story   \n",
            "1                      Jumanji   \n",
            "2             Grumpier Old Men   \n",
            "3            Waiting to Exhale   \n",
            "4  Father of the Bride Part II   \n",
            "\n",
            "                                            overview  ... release_date  \\\n",
            "0  Led by Woody, Andy's toys live happily in his ...  ...   1995-10-30   \n",
            "1  When siblings Judy and Peter discover an encha...  ...   1995-12-15   \n",
            "2  A family wedding reignites the ancient feud be...  ...   1995-12-22   \n",
            "3  Cheated on, mistreated and stepped on, the wom...  ...   1995-12-22   \n",
            "4  Just when George Banks has recovered from his ...  ...   1995-02-10   \n",
            "\n",
            "       revenue runtime                                   spoken_languages  \\\n",
            "0  373554033.0    81.0           [{'iso_639_1': 'en', 'name': 'English'}]   \n",
            "1  262797249.0   104.0  [{'iso_639_1': 'en', 'name': 'English'}, {'iso...   \n",
            "2          0.0   101.0           [{'iso_639_1': 'en', 'name': 'English'}]   \n",
            "3   81452156.0   127.0           [{'iso_639_1': 'en', 'name': 'English'}]   \n",
            "4   76578911.0   106.0           [{'iso_639_1': 'en', 'name': 'English'}]   \n",
            "\n",
            "     status                                            tagline  \\\n",
            "0  Released                                                NaN   \n",
            "1  Released          Roll the dice and unleash the excitement!   \n",
            "2  Released  Still Yelling. Still Fighting. Still Ready for...   \n",
            "3  Released  Friends are the people who let you be yourself...   \n",
            "4  Released  Just When His World Is Back To Normal... He's ...   \n",
            "\n",
            "                         title  video vote_average vote_count  \n",
            "0                    Toy Story  False          7.7     5415.0  \n",
            "1                      Jumanji  False          6.9     2413.0  \n",
            "2             Grumpier Old Men  False          6.5       92.0  \n",
            "3            Waiting to Exhale  False          6.1       34.0  \n",
            "4  Father of the Bride Part II  False          5.7      173.0  \n",
            "\n",
            "[5 rows x 24 columns]\n"
          ]
        },
        {
          "output_type": "stream",
          "name": "stderr",
          "text": [
            "<ipython-input-3-500345a3b6b9>:1: DtypeWarning: Columns (10) have mixed types. Specify dtype option on import or set low_memory=False.\n",
            "  data_movies = pd.read_csv('/content/drive/MyDrive/archive/movies_metadata.csv')\n"
          ]
        }
      ]
    },
    {
      "cell_type": "code",
      "source": [
        "comments = data_movies[[\"overview\"]]\n",
        "print(comments)"
      ],
      "metadata": {
        "id": "5XGVcoHcnHvo",
        "colab": {
          "base_uri": "https://localhost:8080/"
        },
        "outputId": "d92ecb09-4ecb-4e10-8de2-9021bd473be7"
      },
      "execution_count": 4,
      "outputs": [
        {
          "output_type": "stream",
          "name": "stdout",
          "text": [
            "                                                overview\n",
            "0      Led by Woody, Andy's toys live happily in his ...\n",
            "1      When siblings Judy and Peter discover an encha...\n",
            "2      A family wedding reignites the ancient feud be...\n",
            "3      Cheated on, mistreated and stepped on, the wom...\n",
            "4      Just when George Banks has recovered from his ...\n",
            "...                                                  ...\n",
            "45461        Rising and falling between a man and woman.\n",
            "45462  An artist struggles to finish his work while a...\n",
            "45463  When one of her hits goes wrong, a professiona...\n",
            "45464  In a small town live two brothers, one a minis...\n",
            "45465  50 years after decriminalisation of homosexual...\n",
            "\n",
            "[45466 rows x 1 columns]\n"
          ]
        }
      ]
    },
    {
      "cell_type": "code",
      "source": [
        "# 'overview' sütununu alalım ve sadece harf karakterlerini koruyalım\n",
        "comments = data_movies[[\"overview\"]]\n",
        "stop_words = set(stopwords.words('english'))\n",
        "lemma = WordNetLemmatizer()\n",
        "comments_str = comments['overview'].astype(str)\n",
        "reg_comments = comments_str.apply(lambda x: re.sub('[^a-zA-Z]', ' ', x))\n"
      ],
      "metadata": {
        "id": "Ki_NNSDhA2lA"
      },
      "execution_count": 5,
      "outputs": []
    },
    {
      "cell_type": "code",
      "source": [
        "# TF-IDF Vektörizasyonu\n",
        "tfidf_vectorizer = TfidfVectorizer(max_features=1500)\n",
        "tfidf_matrix = tfidf_vectorizer.fit_transform(reg_comments.tolist())\n",
        "tfidf_df = pd.DataFrame(tfidf_matrix.toarray(), columns=tfidf_vectorizer.get_feature_names_out())\n"
      ],
      "metadata": {
        "id": "zLprQBRy4hNA"
      },
      "execution_count": 6,
      "outputs": []
    },
    {
      "cell_type": "code",
      "source": [
        "# Duygu analizi yapmak için bir işlev tanımlayalım\n",
        "def analyze_sentiment(text):\n",
        "    analysis = TextBlob(text)\n",
        "    sentiment = analysis.sentiment.polarity\n",
        "    words = text.split()\n",
        "    filtered_words = [lemma.lemmatize(word).lower() for word in words if word.lower() not in stop_words]\n",
        "    cleaned_text = ' '.join(filtered_words)\n",
        "\n",
        "    return {\n",
        "        'yorum': text,\n",
        "        'temizlenmis_yorum': cleaned_text,\n",
        "        'duygu': 'pozitif' if sentiment > 0 else 'negatif' if sentiment < 0 else 'nötr'\n",
        "    }\n"
      ],
      "metadata": {
        "id": "6JGG9LbmFQG-"
      },
      "execution_count": 7,
      "outputs": []
    },
    {
      "cell_type": "code",
      "source": [
        "# 'overview' sütununu dizeye çevirelim ve bir liste olarak saklayalım\n",
        "reg_comments_list = reg_comments.astype(str).tolist()\n",
        "\n",
        "# Duygu analizi ve TF-IDF vektörizasyonunu uygulayalım\n",
        "results = [analyze_sentiment(comment) for comment in reg_comments_list]\n",
        "tfidf_vectorizer = TfidfVectorizer(max_features=1500)\n",
        "tfidf_matrix = tfidf_vectorizer.fit_transform(reg_comments_list)\n",
        "tfidf_df = pd.DataFrame(tfidf_matrix.toarray(), columns=tfidf_vectorizer.get_feature_names_out())\n",
        "\n",
        "# Sonuçları düzgün sütunlar halinde göstermek için yeni bir DataFrame oluşturalım\n",
        "result_df = pd.DataFrame({\n",
        "    'Yorum': reg_comments,\n",
        "    'Temizlenmiş Yorum': [result['temizlenmis_yorum'] for result in results],\n",
        "    'Duygu': [result['duygu'] for result in results]\n",
        "})\n",
        "\n",
        "print(result_df)"
      ],
      "metadata": {
        "id": "zcORyqi440Vi",
        "colab": {
          "base_uri": "https://localhost:8080/"
        },
        "outputId": "08ea7245-374e-4847-81b4-a5ee2b9263ea"
      },
      "execution_count": 8,
      "outputs": [
        {
          "output_type": "stream",
          "name": "stdout",
          "text": [
            "                                                   Yorum  \\\n",
            "0      Led by Woody  Andy s toys live happily in his ...   \n",
            "1      When siblings Judy and Peter discover an encha...   \n",
            "2      A family wedding reignites the ancient feud be...   \n",
            "3      Cheated on  mistreated and stepped on  the wom...   \n",
            "4      Just when George Banks has recovered from his ...   \n",
            "...                                                  ...   \n",
            "45461        Rising and falling between a man and woman    \n",
            "45462  An artist struggles to finish his work while a...   \n",
            "45463  When one of her hits goes wrong  a professiona...   \n",
            "45464  In a small town live two brothers  one a minis...   \n",
            "45465     years after decriminalisation of homosexual...   \n",
            "\n",
            "                                       Temizlenmiş Yorum    Duygu  \n",
            "0      led woody andy toy live happily room andy birt...  pozitif  \n",
            "1      sibling judy peter discover enchanted board ga...  negatif  \n",
            "2      family wedding reignites ancient feud next doo...  pozitif  \n",
            "3      cheated mistreated stepped woman holding breat...  pozitif  \n",
            "4      george banks recovered daughter wedding receiv...  pozitif  \n",
            "...                                                  ...      ...  \n",
            "45461                           rising falling man woman     nötr  \n",
            "45462  artist struggle finish work storyline cult pla...     nötr  \n",
            "45463  one hit go wrong professional assassin end sui...  negatif  \n",
            "45464  small town live two brother one minister one h...  negatif  \n",
            "45465  year decriminalisation homosexuality uk direct...  pozitif  \n",
            "\n",
            "[45466 rows x 3 columns]\n"
          ]
        }
      ]
    },
    {
      "cell_type": "code",
      "source": [
        "# Özellikleri ve hedef değişkenini seçelim\n",
        "X = tfidf_df\n",
        "y = result_df['Duygu']\n",
        "\n",
        "# Verileri eğitim ve test setlerine bölelim\n",
        "X_train, X_test, y_train, y_test = train_test_split(X, y, test_size=1500, random_state=42)\n",
        "\n",
        "# LabelEncoder kullanarak duygu etiketlerini sayısal hale getirelim\n",
        "label_encoder = LabelEncoder()\n",
        "y_train_encoded = label_encoder.fit_transform(y_train)\n",
        "y_test_encoded = label_encoder.transform(y_test)\n",
        "\n",
        "# Naive Bayes Sınıflandırıcı\n",
        "nb_classifier = MultinomialNB()\n",
        "nb_classifier.fit(X_train, y_train)\n",
        "nb_y_pred = nb_classifier.predict(X_test)\n",
        "\n",
        "# Random Forest Sınıflandırıcı\n",
        "rf_classifier = RandomForestClassifier(n_estimators=100, random_state=42)\n",
        "rf_classifier.fit(X_train, y_train)\n",
        "rf_y_pred = rf_classifier.predict(X_test)\n",
        "\n",
        "print(\"Naive Bayes Sınıflandırıcı Sonuçları:\")\n",
        "print(classification_report(y_test, nb_y_pred))\n",
        "\n",
        "print(\"Random Forest Sınıflandırıcı Sonuçları:\")\n",
        "print(classification_report(y_test, rf_y_pred))"
      ],
      "metadata": {
        "id": "7_TFQvEnZ2bY",
        "colab": {
          "base_uri": "https://localhost:8080/"
        },
        "outputId": "7d79514b-a919-4120-cfe5-884472b087b2"
      },
      "execution_count": 9,
      "outputs": [
        {
          "output_type": "stream",
          "name": "stdout",
          "text": [
            "Naive Bayes Sınıflandırıcı Sonuçları:\n",
            "              precision    recall  f1-score   support\n",
            "\n",
            "     negatif       0.81      0.37      0.51       462\n",
            "        nötr       1.00      0.18      0.30       213\n",
            "     pozitif       0.64      0.97      0.77       825\n",
            "\n",
            "    accuracy                           0.67      1500\n",
            "   macro avg       0.82      0.51      0.53      1500\n",
            "weighted avg       0.74      0.67      0.62      1500\n",
            "\n",
            "Random Forest Sınıflandırıcı Sonuçları:\n",
            "              precision    recall  f1-score   support\n",
            "\n",
            "     negatif       0.75      0.43      0.54       462\n",
            "        nötr       0.74      0.52      0.61       213\n",
            "     pozitif       0.69      0.91      0.79       825\n",
            "\n",
            "    accuracy                           0.71      1500\n",
            "   macro avg       0.73      0.62      0.65      1500\n",
            "weighted avg       0.72      0.71      0.69      1500\n",
            "\n"
          ]
        }
      ]
    },
    {
      "cell_type": "code",
      "source": [
        "# LSTM\n",
        "tokenizer = Tokenizer(num_words=5000)\n",
        "tokenizer.fit_on_texts(result_df['Temizlenmiş Yorum'])\n",
        "X_lstm = tokenizer.texts_to_sequences(result_df['Temizlenmiş Yorum'])\n",
        "X_lstm = pad_sequences(X_lstm, maxlen=200)\n",
        "y_lstm = pd.get_dummies(result_df['Duygu']).values\n",
        "\n",
        "lstm_model = Sequential()\n",
        "lstm_model.add(Embedding(5000, 128, input_length=X_lstm.shape[1]))\n",
        "lstm_model.add(LSTM(100))\n",
        "lstm_model.add(Dense(3, activation='softmax'))\n",
        "lstm_model.compile(loss='categorical_crossentropy', optimizer='adam', metrics=['accuracy'])\n",
        "lstm_model.fit(X_lstm, y_lstm, epochs=3, batch_size=64)\n",
        "\n",
        "X_test_lstm = tokenizer.texts_to_sequences(X_test)\n",
        "X_test_lstm = pad_sequences(X_test_lstm, maxlen=200)\n",
        "\n",
        "lstm_y_pred = lstm_model.predict(X_test_lstm)\n",
        "lstm_y_pred = np.argmax(lstm_y_pred, axis=1)\n",
        "print(\"LSTM Sonuçları:\")\n",
        "print(classification_report(y_test_encoded, lstm_y_pred))\n"
      ],
      "metadata": {
        "colab": {
          "base_uri": "https://localhost:8080/"
        },
        "id": "DspZ4xSzdEih",
        "outputId": "9f0af3a6-4ae9-4360-fb6a-0db2834e591f"
      },
      "execution_count": 10,
      "outputs": [
        {
          "output_type": "stream",
          "name": "stdout",
          "text": [
            "Epoch 1/3\n",
            "711/711 [==============================] - 92s 120ms/step - loss: 0.5303 - accuracy: 0.7756\n",
            "Epoch 2/3\n",
            "711/711 [==============================] - 20s 28ms/step - loss: 0.3134 - accuracy: 0.8869\n",
            "Epoch 3/3\n",
            "711/711 [==============================] - 14s 19ms/step - loss: 0.2741 - accuracy: 0.9024\n",
            "47/47 [==============================] - 1s 4ms/step\n",
            "LSTM Sonuçları:\n",
            "              precision    recall  f1-score   support\n",
            "\n",
            "           0       0.26      0.04      0.07       462\n",
            "           1       0.14      0.88      0.24       213\n",
            "           2       0.52      0.07      0.12       825\n",
            "\n",
            "    accuracy                           0.18      1500\n",
            "   macro avg       0.31      0.33      0.15      1500\n",
            "weighted avg       0.39      0.18      0.12      1500\n",
            "\n"
          ]
        }
      ]
    },
    {
      "cell_type": "code",
      "source": [
        "# CNN\n",
        "cnn_model = Sequential()\n",
        "cnn_model.add(Embedding(5000, 128, input_length=X_lstm.shape[1]))\n",
        "cnn_model.add(Conv1D(64, 5, activation='relu'))\n",
        "cnn_model.add(MaxPooling1D(pool_size=4))\n",
        "cnn_model.add(LSTM(100))\n",
        "cnn_model.add(Dense(3, activation='softmax'))\n",
        "cnn_model.compile(loss='categorical_crossentropy', optimizer='adam', metrics=['accuracy'])\n",
        "cnn_model.fit(X_lstm, y_lstm, epochs=3, batch_size=64)\n",
        "\n",
        "X_test_cnn = tokenizer.texts_to_sequences(X_test)\n",
        "X_test_cnn = pad_sequences(X_test_cnn, maxlen=200)\n",
        "cnn_y_pred = cnn_model.predict(X_test_cnn)\n",
        "cnn_y_pred = np.argmax(cnn_y_pred, axis=1)\n",
        "print(\"CNN Sınıflandırıcı Sonuçları:\")\n",
        "print(classification_report(y_test_encoded, cnn_y_pred))\n"
      ],
      "metadata": {
        "colab": {
          "base_uri": "https://localhost:8080/"
        },
        "id": "dA7DEed1dEqG",
        "outputId": "2073be4b-5750-44ff-9cc7-fb5e29714fac"
      },
      "execution_count": 11,
      "outputs": [
        {
          "output_type": "stream",
          "name": "stdout",
          "text": [
            "Epoch 1/3\n",
            "711/711 [==============================] - 61s 75ms/step - loss: 0.4924 - accuracy: 0.7926\n",
            "Epoch 2/3\n",
            "711/711 [==============================] - 17s 24ms/step - loss: 0.2987 - accuracy: 0.8934\n",
            "Epoch 3/3\n",
            "711/711 [==============================] - 13s 18ms/step - loss: 0.2231 - accuracy: 0.9236\n",
            "47/47 [==============================] - 1s 6ms/step\n",
            "CNN Sınıflandırıcı Sonuçları:\n",
            "              precision    recall  f1-score   support\n",
            "\n",
            "           0       0.26      0.04      0.07       462\n",
            "           1       0.14      0.88      0.25       213\n",
            "           2       0.52      0.07      0.12       825\n",
            "\n",
            "    accuracy                           0.18      1500\n",
            "   macro avg       0.31      0.33      0.15      1500\n",
            "weighted avg       0.39      0.18      0.13      1500\n",
            "\n"
          ]
        }
      ]
    },
    {
      "cell_type": "code",
      "source": [
        "# MLP\n",
        "mlp_classifier = MLPClassifier(hidden_layer_sizes=(128, 64), max_iter=300)\n",
        "mlp_classifier.fit(X_train, y_train_encoded)\n",
        "mlp_y_pred_encoded = mlp_classifier.predict(X_test)\n",
        "mlp_y_pred = label_encoder.inverse_transform(mlp_y_pred_encoded)\n",
        "\n",
        "print(\"MLP Sınıflandırıcı Sonuçları:\")\n",
        "print(classification_report(y_test, mlp_y_pred))"
      ],
      "metadata": {
        "colab": {
          "base_uri": "https://localhost:8080/"
        },
        "id": "g4mtAjnldE0L",
        "outputId": "901a8996-61c8-489e-b79e-3fd279942b35"
      },
      "execution_count": 12,
      "outputs": [
        {
          "output_type": "stream",
          "name": "stdout",
          "text": [
            "MLP Sınıflandırıcı Sonuçları:\n",
            "              precision    recall  f1-score   support\n",
            "\n",
            "     negatif       0.67      0.71      0.69       462\n",
            "        nötr       0.73      0.73      0.73       213\n",
            "     pozitif       0.84      0.81      0.82       825\n",
            "\n",
            "    accuracy                           0.77      1500\n",
            "   macro avg       0.75      0.75      0.75      1500\n",
            "weighted avg       0.77      0.77      0.77      1500\n",
            "\n"
          ]
        }
      ]
    },
    {
      "cell_type": "code",
      "source": [
        "# Pozitif yorumlar için verileri ayıklayalım\n",
        "positive_reviews = result_df[result_df['Duygu'] == 'pozitif']\n",
        "\n",
        "# TF-IDF vektörizasyonu için verileri hazırlayalım\n",
        "positive_comments = positive_reviews['Temizlenmiş Yorum']\n",
        "tfidf_matrix_positive = tfidf_vectorizer.transform(positive_comments)\n",
        "tfidf_df_positive = pd.DataFrame(tfidf_matrix_positive.toarray(), columns=tfidf_vectorizer.get_feature_names_out())\n",
        "\n",
        "# MLP sınıflandırıcı ile pozitif yorumları tahmin edelim\n",
        "mlp_y_pred_positive_encoded = mlp_classifier.predict(tfidf_df_positive)\n",
        "mlp_y_pred_positive = label_encoder.inverse_transform(mlp_y_pred_positive_encoded)\n",
        "\n",
        "# Tahmin edilen pozitif yorumlar için puanları alalım\n",
        "positive_reviews['Tahmini Duygu'] = mlp_y_pred_positive\n",
        "\n",
        "# 'Tahmini Duygu' sütunundaki pozitif yorumlar için puanları alalım\n",
        "positive_reviews_with_scores = positive_reviews[positive_reviews['Tahmini Duygu'] == 'pozitif']\n",
        "\n",
        "# Puanlara göre filmleri sıralayalım ve ilk 5 filmi görüntüleyelim\n",
        "top_5_positive_movies = positive_reviews_with_scores.sort_values(by='Tahmini Duygu', ascending=False).head(5)\n",
        "print(\"Pozitif Yorumlardan En Yüksek Puan Alan İlk 5 Yorum:\")\n",
        "print(top_5_positive_movies[['Yorum', 'Temizlenmiş Yorum', 'Tahmini Duygu']])\n"
      ],
      "metadata": {
        "colab": {
          "base_uri": "https://localhost:8080/"
        },
        "id": "ghEQ_Fy6Fso7",
        "outputId": "631ab2b5-8ed5-4a83-dd19-bf8034bd340d"
      },
      "execution_count": 13,
      "outputs": [
        {
          "output_type": "stream",
          "name": "stdout",
          "text": [
            "Pozitif Yorumlardan En Yüksek Puan Alan İlk 5 Yorum:\n",
            "                                                   Yorum  \\\n",
            "0      Led by Woody  Andy s toys live happily in his ...   \n",
            "30523  After losing his parents in a car accident  Mu...   \n",
            "30296  Based on a true story   Tot altijd  introduces...   \n",
            "30292  When someone murders his beloved cat  Clinton ...   \n",
            "30291  A group of friends reunite after    years to c...   \n",
            "\n",
            "                                       Temizlenmiş Yorum Tahmini Duygu  \n",
            "0      led woody andy toy live happily room andy birt...       pozitif  \n",
            "30523  losing parent car accident mukesh stay aunt ho...       pozitif  \n",
            "30296  based true story tot altijd introduces u band ...       pozitif  \n",
            "30292  someone murder beloved cat clinton adult child...       pozitif  \n",
            "30291  group friend reunite year climb mont ventoux m...       pozitif  \n"
          ]
        },
        {
          "output_type": "stream",
          "name": "stderr",
          "text": [
            "<ipython-input-13-2cf38728f358>:14: SettingWithCopyWarning: \n",
            "A value is trying to be set on a copy of a slice from a DataFrame.\n",
            "Try using .loc[row_indexer,col_indexer] = value instead\n",
            "\n",
            "See the caveats in the documentation: https://pandas.pydata.org/pandas-docs/stable/user_guide/indexing.html#returning-a-view-versus-a-copy\n",
            "  positive_reviews['Tahmini Duygu'] = mlp_y_pred_positive\n"
          ]
        }
      ]
    },
    {
      "cell_type": "code",
      "source": [
        "#Algoritmalarla metrikleri alalım\n",
        "algorithm_names = ['Naive Bayes', 'Random Forest', 'LSTM', 'CNN', 'MLP']\n",
        "\n",
        "\n",
        "accuracy_scores = [accuracy_score(y_test, nb_y_pred),\n",
        "                   accuracy_score(y_test, rf_y_pred),\n",
        "                   accuracy_score(y_test_encoded, lstm_y_pred),\n",
        "                   accuracy_score(y_test_encoded, cnn_y_pred),\n",
        "                   accuracy_score(y_test, mlp_y_pred)]\n",
        "\n",
        "precision_scores = [precision_score(y_test, nb_y_pred, average='weighted'),\n",
        "                    precision_score(y_test, rf_y_pred, average='weighted'),\n",
        "                    precision_score(y_test_encoded, lstm_y_pred, average='weighted'),\n",
        "                    precision_score(y_test_encoded, cnn_y_pred, average='weighted'),\n",
        "                    precision_score(y_test, mlp_y_pred, average='weighted')]\n",
        "\n",
        "recall_scores = [recall_score(y_test, nb_y_pred, average='weighted'),\n",
        "                 recall_score(y_test, rf_y_pred, average='weighted'),\n",
        "                 recall_score(y_test_encoded, lstm_y_pred, average='weighted'),\n",
        "                 recall_score(y_test_encoded, cnn_y_pred, average='weighted'),\n",
        "                 recall_score(y_test, mlp_y_pred, average='weighted')]\n",
        "\n",
        "f1_scores = [f1_score(y_test, nb_y_pred, average='weighted'),\n",
        "             f1_score(y_test, rf_y_pred, average='weighted'),\n",
        "             f1_score(y_test_encoded, lstm_y_pred, average='weighted'),\n",
        "             f1_score(y_test_encoded, cnn_y_pred, average='weighted'),\n",
        "             f1_score(y_test, mlp_y_pred, average='weighted')]\n",
        "\n"
      ],
      "metadata": {
        "id": "JcZR5nFVeBBL"
      },
      "execution_count": 14,
      "outputs": []
    },
    {
      "cell_type": "code",
      "source": [
        "# Metrikleri sütun grafikleri ile gösterelim\n",
        "plt.figure(figsize=(12, 6))\n",
        "\n",
        "plt.subplot(2, 2, 1)\n",
        "plt.bar(algorithm_names, accuracy_scores, color='skyblue')\n",
        "plt.title('Accuracy')\n",
        "\n",
        "plt.subplot(2, 2, 2)\n",
        "plt.bar(algorithm_names, precision_scores, color='salmon')\n",
        "plt.title('Precision')\n",
        "\n",
        "plt.subplot(2, 2, 3)\n",
        "plt.bar(algorithm_names, recall_scores, color='lightgreen')\n",
        "plt.title('Recall')\n",
        "\n",
        "plt.subplot(2, 2, 4)\n",
        "plt.bar(algorithm_names, f1_scores, color='lightcoral')\n",
        "plt.title('F1-Score')\n",
        "\n",
        "plt.tight_layout()\n",
        "plt.show()\n"
      ],
      "metadata": {
        "colab": {
          "base_uri": "https://localhost:8080/",
          "height": 607
        },
        "id": "Zsh1BA2GPDng",
        "outputId": "9a3f2e79-afe4-48a1-8332-bc40a9e89389"
      },
      "execution_count": 15,
      "outputs": [
        {
          "output_type": "display_data",
          "data": {
            "text/plain": [
              "<Figure size 1200x600 with 4 Axes>"
            ],
            "image/png": "[encoded data removed]"
          },
          "metadata": {}
        }
      ]
    }
  ]
}