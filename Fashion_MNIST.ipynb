{
  "nbformat": 4,
  "nbformat_minor": 0,
  "metadata": {
    "colab": {
      "provenance": []
    },
    "kernelspec": {
      "name": "python3",
      "display_name": "Python 3"
    },
    "language_info": {
      "name": "python"
    }
  },
  "cells": [
    {
      "cell_type": "code",
      "execution_count": 2,
      "metadata": {
        "id": "1NcejeEU7Sll"
      },
      "outputs": [],
      "source": [
        "import numpy as np\n",
        "import matplotlib.pyplot as plt\n",
        "import tensorflow as tf\n",
        "from tensorflow import keras\n"
      ]
    },
    {
      "cell_type": "code",
      "source": [
        "# Fashion MNIST veri kümesini yükleme\n",
        "(x_train, y_train), (x_test, y_test) = keras.datasets.fashion_mnist.load_data()\n",
        "\n",
        "# Verileri [0, 1] aralığında ölçekleme\n",
        "x_train = x_train.astype('float32') / 255.0\n",
        "x_test = x_test.astype('float32') / 255.0\n",
        "\n",
        "# Veri şekillerini yeniden düzenleme\n",
        "x_train = np.expand_dims(x_train, axis=-1)\n",
        "x_test = np.expand_dims(x_test, axis=-1)\n",
        "\n",
        "# Görüntüleri ve etiketleri normalize etme (bu kısımda y_train ve y_test'in normalize edilmesine gerek yok)\n",
        "y_train = y_train.astype('float32')\n",
        "y_test = y_test.astype('float32')\n",
        "\n",
        "# Veri şekillerini yeniden düzenleme\n",
        "y_train = y_train.reshape(y_train.shape[0], 1)\n",
        "y_test = y_test.reshape(y_test.shape[0], 1)\n"
      ],
      "metadata": {
        "id": "tSGQ8lSn_ONj"
      },
      "execution_count": 16,
      "outputs": []
    },
    {
      "cell_type": "code",
      "source": [
        "model = keras.Sequential([\n",
        "    keras.layers.Conv2D(filters = 32, kernel_size = (3,3), activation='relu', input_shape=(28, 28, 1)),\n",
        "    keras.layers.MaxPooling2D(pool_size = (2, 2)),\n",
        "    keras.layers.Conv2D(filters = 64, kernel_size = (3,3), activation='relu'),\n",
        "    keras.layers.MaxPooling2D(pool_size = (2, 2)),\n",
        "    keras.layers.Flatten(),\n",
        "    keras.layers.Dense(units = 128, activation='relu'),\n",
        "    keras.layers.Dense(units = 10, activation='softmax')\n",
        "])\n",
        "\n",
        "model.compile(optimizer='adam',\n",
        "              loss='sparse_categorical_crossentropy',\n",
        "              metrics=['accuracy'])\n"
      ],
      "metadata": {
        "id": "Bwya-Vz1_ObD"
      },
      "execution_count": 32,
      "outputs": []
    },
    {
      "cell_type": "code",
      "source": [
        "model.fit(x_train, y_train, epochs=10, validation_data=(x_test, y_test))\n"
      ],
      "metadata": {
        "colab": {
          "base_uri": "https://localhost:8080/"
        },
        "id": "NXjlSQy4_Oj_",
        "outputId": "437589a2-14ec-40f3-ed92-5c36077c660c"
      },
      "execution_count": 26,
      "outputs": [
        {
          "output_type": "stream",
          "name": "stdout",
          "text": [
            "Epoch 1/10\n",
            "1875/1875 [==============================] - 75s 40ms/step - loss: 0.0919 - accuracy: 0.9656 - val_loss: 0.2947 - val_accuracy: 0.9168\n",
            "Epoch 2/10\n",
            "1875/1875 [==============================] - 66s 35ms/step - loss: 0.0802 - accuracy: 0.9695 - val_loss: 0.3284 - val_accuracy: 0.9090\n",
            "Epoch 3/10\n",
            "1875/1875 [==============================] - 66s 35ms/step - loss: 0.0731 - accuracy: 0.9725 - val_loss: 0.3737 - val_accuracy: 0.9020\n",
            "Epoch 4/10\n",
            "1875/1875 [==============================] - 64s 34ms/step - loss: 0.0633 - accuracy: 0.9764 - val_loss: 0.3729 - val_accuracy: 0.9088\n",
            "Epoch 5/10\n",
            "1875/1875 [==============================] - 63s 34ms/step - loss: 0.0567 - accuracy: 0.9786 - val_loss: 0.4321 - val_accuracy: 0.9050\n",
            "Epoch 6/10\n",
            "1875/1875 [==============================] - 65s 34ms/step - loss: 0.0521 - accuracy: 0.9804 - val_loss: 0.4185 - val_accuracy: 0.9050\n",
            "Epoch 7/10\n",
            "1875/1875 [==============================] - 64s 34ms/step - loss: 0.0455 - accuracy: 0.9834 - val_loss: 0.4513 - val_accuracy: 0.9102\n",
            "Epoch 8/10\n",
            "1875/1875 [==============================] - 64s 34ms/step - loss: 0.0419 - accuracy: 0.9853 - val_loss: 0.4639 - val_accuracy: 0.9134\n",
            "Epoch 9/10\n",
            "1875/1875 [==============================] - 66s 35ms/step - loss: 0.0415 - accuracy: 0.9844 - val_loss: 0.4976 - val_accuracy: 0.9083\n",
            "Epoch 10/10\n",
            "1875/1875 [==============================] - 68s 36ms/step - loss: 0.0358 - accuracy: 0.9868 - val_loss: 0.5235 - val_accuracy: 0.9128\n"
          ]
        },
        {
          "output_type": "execute_result",
          "data": {
            "text/plain": [
              "<keras.callbacks.History at 0x7f53b9c31f30>"
            ]
          },
          "metadata": {},
          "execution_count": 26
        }
      ]
    },
    {
      "cell_type": "code",
      "source": [
        "test_loss, test_acc = model.evaluate(x_test, y_test, verbose=2)\n",
        "print('\\nTest accuracy:', test_acc)\n"
      ],
      "metadata": {
        "colab": {
          "base_uri": "https://localhost:8080/"
        },
        "id": "9zQyXBjF_OsE",
        "outputId": "9c115db0-9f9c-44c6-dcec-a18258f1fc60"
      },
      "execution_count": 27,
      "outputs": [
        {
          "output_type": "stream",
          "name": "stdout",
          "text": [
            "313/313 - 3s - loss: 0.5235 - accuracy: 0.9128 - 3s/epoch - 8ms/step\n",
            "\n",
            "Test accuracy: 0.9128000140190125\n"
          ]
        }
      ]
    },
    {
      "cell_type": "code",
      "source": [
        "image = x_train[20, :].reshape((28, 28))\n",
        "plt.imshow(image)\n",
        "plt.show()"
      ],
      "metadata": {
        "colab": {
          "base_uri": "https://localhost:8080/",
          "height": 430
        },
        "id": "lV7Aq4wcD-Pa",
        "outputId": "6bc0b5fb-4e1e-4b13-e396-947f541b56e3"
      },
      "execution_count": 33,
      "outputs": [
        {
          "output_type": "display_data",
          "data": {
            "text/plain": [
              "<Figure size 640x480 with 1 Axes>"
            ],
            "image/png": "[encoded data removed]"
          },
          "metadata": {}
        }
      ]
    }
  ]
}